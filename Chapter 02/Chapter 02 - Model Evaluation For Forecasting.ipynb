{
 "cells": [
  {
   "cell_type": "markdown",
   "metadata": {},
   "source": [
    "### Import Packages & Data"
   ]
  },
  {
   "cell_type": "code",
   "execution_count": 15,
   "metadata": {
    "ExecuteTime": {
     "end_time": "2022-03-14T01:38:23.540024Z",
     "start_time": "2022-03-14T01:38:23.531336Z"
    }
   },
   "outputs": [],
   "source": [
    "import pandas as pd\n",
    "import numpy as np\n",
    "import sklearn as sk\n",
    "import math\n",
    "import warnings\n",
    "warnings.filterwarnings(\"ignore\")"
   ]
  },
  {
   "cell_type": "code",
   "execution_count": 2,
   "metadata": {
    "ExecuteTime": {
     "end_time": "2022-03-13T23:47:01.594632Z",
     "start_time": "2022-03-13T23:47:01.572452Z"
    }
   },
   "outputs": [],
   "source": [
    "stockData = pd.read_csv('Chapter2_StockPriceData.csv')"
   ]
  },
  {
   "cell_type": "code",
   "execution_count": 3,
   "metadata": {
    "ExecuteTime": {
     "end_time": "2022-03-13T23:47:03.488380Z",
     "start_time": "2022-03-13T23:47:03.453630Z"
    }
   },
   "outputs": [
    {
     "data": {
      "text/html": [
       "<div>\n",
       "<style scoped>\n",
       "    .dataframe tbody tr th:only-of-type {\n",
       "        vertical-align: middle;\n",
       "    }\n",
       "\n",
       "    .dataframe tbody tr th {\n",
       "        vertical-align: top;\n",
       "    }\n",
       "\n",
       "    .dataframe thead th {\n",
       "        text-align: right;\n",
       "    }\n",
       "</style>\n",
       "<table border=\"1\" class=\"dataframe\">\n",
       "  <thead>\n",
       "    <tr style=\"text-align: right;\">\n",
       "      <th></th>\n",
       "      <th>Period</th>\n",
       "      <th>StockPrice</th>\n",
       "      <th>Forecasted</th>\n",
       "      <th>Error</th>\n",
       "    </tr>\n",
       "  </thead>\n",
       "  <tbody>\n",
       "    <tr>\n",
       "      <th>0</th>\n",
       "      <td>January</td>\n",
       "      <td>35</td>\n",
       "      <td>30</td>\n",
       "      <td>-5</td>\n",
       "    </tr>\n",
       "    <tr>\n",
       "      <th>1</th>\n",
       "      <td>February</td>\n",
       "      <td>35</td>\n",
       "      <td>31</td>\n",
       "      <td>-4</td>\n",
       "    </tr>\n",
       "    <tr>\n",
       "      <th>2</th>\n",
       "      <td>March</td>\n",
       "      <td>10</td>\n",
       "      <td>30</td>\n",
       "      <td>20</td>\n",
       "    </tr>\n",
       "    <tr>\n",
       "      <th>3</th>\n",
       "      <td>April</td>\n",
       "      <td>5</td>\n",
       "      <td>10</td>\n",
       "      <td>5</td>\n",
       "    </tr>\n",
       "    <tr>\n",
       "      <th>4</th>\n",
       "      <td>May</td>\n",
       "      <td>8</td>\n",
       "      <td>12</td>\n",
       "      <td>4</td>\n",
       "    </tr>\n",
       "    <tr>\n",
       "      <th>5</th>\n",
       "      <td>June</td>\n",
       "      <td>10</td>\n",
       "      <td>17</td>\n",
       "      <td>7</td>\n",
       "    </tr>\n",
       "    <tr>\n",
       "      <th>6</th>\n",
       "      <td>July</td>\n",
       "      <td>15</td>\n",
       "      <td>18</td>\n",
       "      <td>3</td>\n",
       "    </tr>\n",
       "    <tr>\n",
       "      <th>7</th>\n",
       "      <td>August</td>\n",
       "      <td>20</td>\n",
       "      <td>27</td>\n",
       "      <td>7</td>\n",
       "    </tr>\n",
       "    <tr>\n",
       "      <th>8</th>\n",
       "      <td>September</td>\n",
       "      <td>23</td>\n",
       "      <td>29</td>\n",
       "      <td>6</td>\n",
       "    </tr>\n",
       "    <tr>\n",
       "      <th>9</th>\n",
       "      <td>October</td>\n",
       "      <td>21</td>\n",
       "      <td>24</td>\n",
       "      <td>3</td>\n",
       "    </tr>\n",
       "    <tr>\n",
       "      <th>10</th>\n",
       "      <td>November</td>\n",
       "      <td>22</td>\n",
       "      <td>23</td>\n",
       "      <td>1</td>\n",
       "    </tr>\n",
       "    <tr>\n",
       "      <th>11</th>\n",
       "      <td>December</td>\n",
       "      <td>25</td>\n",
       "      <td>22</td>\n",
       "      <td>-3</td>\n",
       "    </tr>\n",
       "  </tbody>\n",
       "</table>\n",
       "</div>"
      ],
      "text/plain": [
       "       Period  StockPrice  Forecasted  Error\n",
       "0     January          35          30     -5\n",
       "1    February          35          31     -4\n",
       "2       March          10          30     20\n",
       "3       April           5          10      5\n",
       "4         May           8          12      4\n",
       "5        June          10          17      7\n",
       "6        July          15          18      3\n",
       "7      August          20          27      7\n",
       "8   September          23          29      6\n",
       "9     October          21          24      3\n",
       "10   November          22          23      1\n",
       "11   December          25          22     -3"
      ]
     },
     "execution_count": 3,
     "metadata": {},
     "output_type": "execute_result"
    }
   ],
   "source": [
    "stockData['Error'] = stockData.Forecasted - stockData.StockPrice\n",
    "stockData"
   ]
  },
  {
   "cell_type": "markdown",
   "metadata": {
    "heading_collapsed": true
   },
   "source": [
    "### Explore Evaluation Metrics"
   ]
  },
  {
   "cell_type": "code",
   "execution_count": 39,
   "metadata": {
    "ExecuteTime": {
     "end_time": "2022-03-13T23:37:57.060724Z",
     "start_time": "2022-03-13T23:37:57.045760Z"
    },
    "hidden": true
   },
   "outputs": [
    {
     "name": "stdout",
     "output_type": "stream",
     "text": [
      "MSE:  53.7\n"
     ]
    }
   ],
   "source": [
    "#MSE\n",
    "MSE = sk.metrics.mean_squared_error(stockData['StockPrice'], stockData['Forecasted'])\n",
    "print('MSE: ', round(MSE, 1 ))"
   ]
  },
  {
   "cell_type": "code",
   "execution_count": 40,
   "metadata": {
    "ExecuteTime": {
     "end_time": "2022-03-13T23:38:09.512572Z",
     "start_time": "2022-03-13T23:38:09.502599Z"
    },
    "hidden": true
   },
   "outputs": [
    {
     "name": "stdout",
     "output_type": "stream",
     "text": [
      "RMSE:  7.3\n"
     ]
    }
   ],
   "source": [
    "#RMSE\n",
    "RMSE = math.sqrt(sk.metrics.mean_squared_error(stockData['StockPrice'], stockData['Forecasted']))\n",
    "print('RMSE: ', round(RMSE, 1 ))"
   ]
  },
  {
   "cell_type": "code",
   "execution_count": 41,
   "metadata": {
    "ExecuteTime": {
     "end_time": "2022-03-13T23:38:16.271639Z",
     "start_time": "2022-03-13T23:38:16.261666Z"
    },
    "hidden": true
   },
   "outputs": [
    {
     "name": "stdout",
     "output_type": "stream",
     "text": [
      "MAE:  5.7\n"
     ]
    }
   ],
   "source": [
    "#MAE\n",
    "MAE = sk.metrics.mean_absolute_error(stockData['StockPrice'], stockData['Forecasted'])\n",
    "print('MAE: ', round(MAE, 1 ))"
   ]
  },
  {
   "cell_type": "code",
   "execution_count": 36,
   "metadata": {
    "ExecuteTime": {
     "end_time": "2022-03-13T22:58:37.649855Z",
     "start_time": "2022-03-13T22:58:37.635935Z"
    },
    "hidden": true
   },
   "outputs": [
    {
     "name": "stdout",
     "output_type": "stream",
     "text": [
      "MAPE:  0.46\n",
      "MAPE Performance:  53.53\n"
     ]
    }
   ],
   "source": [
    "#MAPE\n",
    "MAPE = sum((abs(stockData['Forecasted'] - stockData['StockPrice']))/stockData['StockPrice'])/np.count_nonzero(stockData['Period'])\n",
    "print('MAPE: ', round(MAPE, 2 ))\n",
    "print('MAPE Performance: ', round((1 - MAPE)*100, 2))"
   ]
  },
  {
   "cell_type": "code",
   "execution_count": 42,
   "metadata": {
    "ExecuteTime": {
     "end_time": "2022-03-13T23:38:24.578918Z",
     "start_time": "2022-03-13T23:38:24.566987Z"
    },
    "hidden": true
   },
   "outputs": [
    {
     "name": "stdout",
     "output_type": "stream",
     "text": [
      "R2:  0.4\n"
     ]
    }
   ],
   "source": [
    "#R2\n",
    "R2 = sk.metrics.r2_score(stockData['StockPrice'], stockData['Forecasted'])\n",
    "print('R2: ', round(R2, 1 ))"
   ]
  },
  {
   "cell_type": "markdown",
   "metadata": {},
   "source": [
    "### Train-Test Split"
   ]
  },
  {
   "cell_type": "code",
   "execution_count": 6,
   "metadata": {
    "ExecuteTime": {
     "end_time": "2022-03-13T23:51:32.277795Z",
     "start_time": "2022-03-13T23:51:32.244874Z"
    }
   },
   "outputs": [
    {
     "name": "stdout",
     "output_type": "stream",
     "text": [
      "Train Error:  122.9375  vs Test Error:  32.4375\n"
     ]
    }
   ],
   "source": [
    "#Using MEAN as the model\n",
    "y = stockData['StockPrice']\n",
    "\n",
    "train1, test1 = sk.model_selection.train_test_split(y, test_size=0.3, shuffle=False)\n",
    "forecast = train1.mean() #should be 17.25\n",
    "\n",
    "train1 = pd.DataFrame(train1)\n",
    "train1['forecast'] = forecast\n",
    "train1_error = sk.metrics.mean_squared_error(train1['StockPrice'], train1['forecast'])\n",
    "\n",
    "test1 = pd.DataFrame(test1)\n",
    "test1['forecast'] = forecast\n",
    "test1_error = sk.metrics.mean_squared_error(test1['StockPrice'], test1['forecast'])\n",
    "\n",
    "print('Train Error: ', train1_error, ' vs Test Error: ', test1_error)"
   ]
  },
  {
   "cell_type": "markdown",
   "metadata": {
    "ExecuteTime": {
     "end_time": "2022-03-13T23:53:24.506063Z",
     "start_time": "2022-03-13T23:53:24.491723Z"
    }
   },
   "source": [
    "### Train-Validation-Test Split"
   ]
  },
  {
   "cell_type": "code",
   "execution_count": 11,
   "metadata": {
    "ExecuteTime": {
     "end_time": "2022-03-14T01:04:20.995819Z",
     "start_time": "2022-03-14T01:04:20.968890Z"
    }
   },
   "outputs": [
    {
     "name": "stdout",
     "output_type": "stream",
     "text": [
      "Val Error for Mean model:  23.56  vs Val Error for Median model:  91.25\n",
      "\n",
      "Since the Mean model has a lower validation error, we are picking it to compute the test error\n"
     ]
    }
   ],
   "source": [
    "#Comparing MEAN and MEDIAN as models\n",
    "#Splitting into 70% train, 15% validation and 15% test:\n",
    "train2, test2 = sk.model_selection.train_test_split(y, test_size=0.3, shuffle=False, random_state=12345)\n",
    "val2, test2 = sk.model_selection.train_test_split(test2, test_size=0.5, shuffle=False, random_state=12345)\n",
    "\n",
    "forecast_mean = train2.mean() #17.25\n",
    "forecast_median = train2.median() #12.5\n",
    "\n",
    "#Compute MSE on validation data for both models:\n",
    "val2 = pd.DataFrame(val2)\n",
    "val2['forecast_mean'] = forecast_mean\n",
    "val2['forecast_median'] = forecast_median\n",
    "\n",
    "mean_val_mse = round(sk.metrics.mean_squared_error(val2['StockPrice'], val2['forecast_mean']), 2)\n",
    "median_val_mse = round(sk.metrics.mean_squared_error(val2['StockPrice'], val2['forecast_median']), 2)\n",
    "\n",
    "print('Val Error for Mean model: ', mean_val_mse, ' vs Val Error for Median model: ', median_val_mse)\n",
    "print()\n",
    "print('Since the Mean model has a lower validation error, we are picking it to compute the test error')"
   ]
  },
  {
   "cell_type": "code",
   "execution_count": 12,
   "metadata": {
    "ExecuteTime": {
     "end_time": "2022-03-14T01:08:51.690244Z",
     "start_time": "2022-03-14T01:08:51.666275Z"
    }
   },
   "outputs": [
    {
     "name": "stdout",
     "output_type": "stream",
     "text": [
      "Test Error for Mean model:  41.3125\n",
      "\n",
      "Test error does not validate our validation split findings since it is double the validation error; such incongruence highlights possible bias in our evaluation.\n",
      "In this case, it is related to the fact that there are too few data points and the model itself is just the average of all values.\n"
     ]
    }
   ],
   "source": [
    "test2 = pd.DataFrame(test2)\n",
    "test2['forecast_mean'] = forecast_mean\n",
    "mean_test_mse = sk.metrics.mean_squared_error(test2['StockPrice'], test2['forecast_mean'])\n",
    "print('Test Error for Mean model: ', mean_test_mse)\n",
    "print()\n",
    "print('Test error does not validate our validation split findings since it is double the validation error; such incongruence highlights possible bias in our evaluation.')\n",
    "print('In this case, it is related to the fact that there are too few data points and the model itself is just the average of all values.')"
   ]
  },
  {
   "cell_type": "markdown",
   "metadata": {},
   "source": [
    "### Cross-Validation: K-Fold Cross-Validation"
   ]
  },
  {
   "cell_type": "code",
   "execution_count": 18,
   "metadata": {
    "ExecuteTime": {
     "end_time": "2022-03-14T01:38:57.858764Z",
     "start_time": "2022-03-14T01:38:57.819868Z"
    }
   },
   "outputs": [
    {
     "name": "stdout",
     "output_type": "stream",
     "text": [
      "K-Fold Cross-Validation Error for Mean model:  106.1\n"
     ]
    }
   ],
   "source": [
    "kf = sk.model_selection.KFold(n_splits=5)\n",
    "\n",
    "errors = []\n",
    "for train_index1, test_index1 in kf.split(stockData):\n",
    "    train3 = stockData.iloc[train_index1,:]\n",
    "    test3 = stockData.iloc[test_index1,:]\n",
    "    \n",
    "    pred3 = train3['StockPrice'].mean()\n",
    "    test3['forecast'] = pred3\n",
    "    error = sk.metrics.mean_squared_error(test3['StockPrice'], test3['forecast'])\n",
    "    errors.append(error)\n",
    "\n",
    "print('K-Fold Cross-Validation Error for Mean model: ', round(np.mean(errors), 1)) #This method should not be used for time-series."
   ]
  },
  {
   "cell_type": "markdown",
   "metadata": {},
   "source": [
    "### Cross-Validation: Time Series Cross-Validation"
   ]
  },
  {
   "cell_type": "code",
   "execution_count": 31,
   "metadata": {
    "ExecuteTime": {
     "end_time": "2022-03-14T01:55:42.107319Z",
     "start_time": "2022-03-14T01:55:42.074168Z"
    }
   },
   "outputs": [
    {
     "name": "stdout",
     "output_type": "stream",
     "text": [
      "Time-Series Cross-Validation Error for Mean model:  194.77\n"
     ]
    }
   ],
   "source": [
    "tscv = sk.model_selection.TimeSeriesSplit(n_splits=5)\n",
    "\n",
    "errors_ts = []\n",
    "for train_index2, test_index2 in tscv.split(stockData):\n",
    "    train4 = stockData.iloc[train_index2,:]\n",
    "    test4 = stockData.iloc[test_index2,:]\n",
    "    \n",
    "    pred4 = train4['StockPrice'].mean()\n",
    "    test4['forecast'] = pred4\n",
    "    error = sk.metrics.mean_squared_error(test4['StockPrice'], test4['forecast'])\n",
    "    errors_ts.append(error)\n",
    "    \n",
    "print('Time-Series Cross-Validation Error for Mean model: ', round(np.mean(errors_ts), 2))"
   ]
  },
  {
   "cell_type": "markdown",
   "metadata": {
    "ExecuteTime": {
     "end_time": "2022-03-14T01:51:00.718857Z",
     "start_time": "2022-03-14T01:51:00.643296Z"
    }
   },
   "source": [
    "### Cross-Validation: Rolling Time Series Cross-Validation"
   ]
  },
  {
   "cell_type": "code",
   "execution_count": 35,
   "metadata": {
    "ExecuteTime": {
     "end_time": "2022-03-14T02:09:20.470222Z",
     "start_time": "2022-03-14T02:09:20.432805Z"
    }
   },
   "outputs": [
    {
     "name": "stdout",
     "output_type": "stream",
     "text": [
      "Rolling Cross-Validation Error for Mean model:  174.0\n"
     ]
    }
   ],
   "source": [
    "tscv_rl = sk.model_selection.TimeSeriesSplit(n_splits=5, max_train_size=2)\n",
    "\n",
    "errors_rl = []\n",
    "for train_index3, test_index3 in tscv_rl.split(stockData):\n",
    "    train5 = stockData.iloc[train_index3,:]\n",
    "    test5 = stockData.iloc[test_index3,:]\n",
    "    \n",
    "    pred5 = train5['StockPrice'].mean()\n",
    "    test5['forecast'] = pred5\n",
    "    error = sk.metrics.mean_squared_error(test5['StockPrice'], test5['forecast'])\n",
    "    errors_rl.append(error)\n",
    "    \n",
    "print('Rolling Cross-Validation Error for Mean model: ', round(np.mean(errors_rl), 1))"
   ]
  }
 ],
 "metadata": {
  "kernelspec": {
   "display_name": "Python 3",
   "language": "python",
   "name": "python3"
  },
  "language_info": {
   "codemirror_mode": {
    "name": "ipython",
    "version": 3
   },
   "file_extension": ".py",
   "mimetype": "text/x-python",
   "name": "python",
   "nbconvert_exporter": "python",
   "pygments_lexer": "ipython3",
   "version": "3.7.6"
  },
  "varInspector": {
   "cols": {
    "lenName": 16,
    "lenType": 16,
    "lenVar": 40
   },
   "kernels_config": {
    "python": {
     "delete_cmd_postfix": "",
     "delete_cmd_prefix": "del ",
     "library": "var_list.py",
     "varRefreshCmd": "print(var_dic_list())"
    },
    "r": {
     "delete_cmd_postfix": ") ",
     "delete_cmd_prefix": "rm(",
     "library": "var_list.r",
     "varRefreshCmd": "cat(var_dic_list()) "
    }
   },
   "types_to_exclude": [
    "module",
    "function",
    "builtin_function_or_method",
    "instance",
    "_Feature"
   ],
   "window_display": false
  }
 },
 "nbformat": 4,
 "nbformat_minor": 4
}
